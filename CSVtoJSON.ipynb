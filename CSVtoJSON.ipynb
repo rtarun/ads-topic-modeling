{
 "cells": [
  {
   "cell_type": "code",
   "execution_count": 4,
   "metadata": {
    "collapsed": false
   },
   "outputs": [],
   "source": [
    "import sys, getopt\n",
    "import csv\n",
    "import json\n",
    "\n",
    "def read_csv(file, json_file, format):\n",
    "    csv_rows = []\n",
    "    with open(file) as csvfile:\n",
    "        reader = csv.DictReader(csvfile)\n",
    "        title = reader.fieldnames\n",
    "        for row in reader:\n",
    "            csv_rows.extend([{title[i]:row[title[i]] for i in range(len(title))}])\n",
    "        write_json(csv_rows, json_file, format)\n",
    "\n",
    "#Convert csv data into json and write it\n",
    "def write_json(data, json_file, format):\n",
    "    with open(json_file, \"w\") as f:\n",
    "        if format == \"pretty\":\n",
    "#             f.write(json.dumps(data, sort_keys=False, indent=4, separators=(',', ': '),encoding=\"utf-8\",ensure_ascii=False))\n",
    "            f.write(json.dumps(data, sort_keys=False, indent=4, separators=(',', ': '),ensure_ascii=False))\n",
    "        else:\n",
    "            f.write(json.dumps(data))\n",
    "\n",
    "            \n",
    "input_file = '/Users/tarunruchandani/Desktop/HarvardSummer2016/Infomap/JS_output831_110_1554.csv'\n",
    "output_file = '/Users/tarunruchandani/Desktop/HarvardSummer2016/Infomap/JS_output831_110_1554.json'\n",
    "format_json = \"pretty\"\n",
    "read_csv(input_file, output_file, format_json)\n"
   ]
  }
 ],
 "metadata": {
  "kernelspec": {
   "display_name": "Python 3",
   "language": "python",
   "name": "python3"
  },
  "language_info": {
   "codemirror_mode": {
    "name": "ipython",
    "version": 3
   },
   "file_extension": ".py",
   "mimetype": "text/x-python",
   "name": "python",
   "nbconvert_exporter": "python",
   "pygments_lexer": "ipython3",
   "version": "3.5.2"
  }
 },
 "nbformat": 4,
 "nbformat_minor": 0
}
